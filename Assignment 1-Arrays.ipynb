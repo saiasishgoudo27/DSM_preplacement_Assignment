{
 "cells": [
  {
   "cell_type": "code",
   "execution_count": 4,
   "id": "8390aeef-6855-41b8-be35-967ea8dba6ce",
   "metadata": {},
   "outputs": [
    {
     "name": "stdin",
     "output_type": "stream",
     "text": [
      "Enter no. of Elements present in array: 4\n",
      "Enter index-0 element: 2\n",
      "Enter index-1 element: 7\n",
      "Enter index-2 element: 11\n",
      "Enter index-3 element: 15\n"
     ]
    },
    {
     "name": "stdout",
     "output_type": "stream",
     "text": [
      "Array is :[2, 7, 11, 15]\n"
     ]
    },
    {
     "name": "stdin",
     "output_type": "stream",
     "text": [
      "Enter Target Element : 9\n"
     ]
    },
    {
     "name": "stdout",
     "output_type": "stream",
     "text": [
      "[0, 1]\n"
     ]
    }
   ],
   "source": [
    "\"\"\" **Q1.** Given an array of integers nums and an integer target, return indices of the two numbers such that they add up to target.\n",
    "\n",
    "You may assume that each input would have exactly one solution, and you may not use the same element twice.\n",
    "\n",
    "You can return the answer in any order.\n",
    "\n",
    "Example: Input: nums = [2,7,11,15], target = 9 Output0 [0,1]\n",
    "\n",
    "Explanation: Because nums[0] + nums[1] == 9, we return [0, 1] \"\"\"\n",
    "\n",
    "num = int(input('Enter no. of Elements present in array:'))\n",
    "arr = []\n",
    "for i in range(num):\n",
    "    ele = int(input(f'Enter index-{i} element:'))\n",
    "    arr.append(ele)\n",
    "print(f'Array is :{arr}')\n",
    "target = int(input('Enter Target Element :'))\n",
    "\n",
    "def sum_checkta(target,num,arr):\n",
    "    for j in range(num):\n",
    "        for k in range(j+1,num):\n",
    "            if(arr[j]+arr[k]==target):\n",
    "                return [j,k]\n",
    "ans = sum_checkta(target,num,arr)\n",
    "print(ans)"
   ]
  },
  {
   "cell_type": "code",
   "execution_count": 2,
   "id": "8942805e-381f-4224-b9d5-033a24702448",
   "metadata": {},
   "outputs": [
    {
     "name": "stdin",
     "output_type": "stream",
     "text": [
      "Enter no. of Elements present in array: 4\n",
      "Enter index-0 element: 3\n",
      "Enter index-1 element: 2\n",
      "Enter index-2 element: 2\n",
      "Enter index-3 element: 3\n"
     ]
    },
    {
     "name": "stdout",
     "output_type": "stream",
     "text": [
      "Array is :[3, 2, 2, 3]\n"
     ]
    },
    {
     "name": "stdin",
     "output_type": "stream",
     "text": [
      "Enter Removed Element : 3\n"
     ]
    },
    {
     "name": "stdout",
     "output_type": "stream",
     "text": [
      "Modified Array: [2, 2]\n",
      "Number of elements not equal to val: 2\n"
     ]
    }
   ],
   "source": [
    "\"\"\" **Q2.** Given an integer array nums and an integer val, remove all occurrences of val in nums in-place. The order of the elements may be changed. Then return the number of elements in nums which are not equal to val.\n",
    "\n",
    "Consider the number of elements in nums which are not equal to val be k, to get accepted, you need to do the following things:\n",
    "\n",
    "    Change the array nums such that the first k elements of nums contain the elements which are not equal to val. The remaining elements of nums are not important as well as the size of nums.\n",
    "    Return k.\n",
    "\n",
    "Example : Input: nums = [3,2,2,3], val = 3 Output: 2, nums = [2,2,*,*]\n",
    "\n",
    "Explanation: Your function should return k = 2, with the first two elements of nums being 2. It does not matter what you leave beyond the returned k (hence they are underscores) \"\"\"\n",
    "\n",
    "num = int(input('Enter no. of Elements present in array:'))\n",
    "arr = []\n",
    "for i in range(num):\n",
    "    ele = int(input(f'Enter index-{i} element:'))\n",
    "    arr.append(ele)\n",
    "print(f'Array is :{arr}')\n",
    "remv = int(input('Enter Removed Element :'))\n",
    "\n",
    "def rermove(num,arr,remv):\n",
    "    i=0\n",
    "    for j in range(num):\n",
    "        if remv != arr[j]:\n",
    "            arr[i]=arr[j]\n",
    "            i=i+1\n",
    "    return i\n",
    "ans = rermove(num,arr,remv)\n",
    "print(\"Modified Array:\", arr[:ans])\n",
    "print(\"Number of elements not equal to val:\", ans)"
   ]
  },
  {
   "cell_type": "code",
   "execution_count": 3,
   "id": "19af81b9-b5e6-4f07-8ac7-beba865e1e70",
   "metadata": {},
   "outputs": [
    {
     "name": "stdin",
     "output_type": "stream",
     "text": [
      "Enter no. of Elements present in array: 4\n",
      "Enter index-0 element: 1\n",
      "Enter index-1 element: 3\n",
      "Enter index-2 element: 5\n",
      "Enter index-3 element: 6\n"
     ]
    },
    {
     "name": "stdout",
     "output_type": "stream",
     "text": [
      "Array is :[1, 3, 5, 6]\n"
     ]
    },
    {
     "name": "stdin",
     "output_type": "stream",
     "text": [
      "Enter search Element : 5\n"
     ]
    },
    {
     "name": "stdout",
     "output_type": "stream",
     "text": [
      "Output:2\n"
     ]
    }
   ],
   "source": [
    "\"\"\" **Q3.** Given a sorted array of distinct integers and a target value, return the index if the target is found. If not, return the index where it would be if it were inserted in order.\n",
    "\n",
    "You must write an algorithm with O(log n) runtime complexity.\n",
    "\n",
    "Example 1: Input: nums = [1,3,5,6], target = 5 Output: 2 \"\"\"\n",
    "\n",
    "num = int(input('Enter no. of Elements present in array:'))\n",
    "arr = []\n",
    "for i in range(num):\n",
    "    ele = int(input(f'Enter index-{i} element:'))\n",
    "    arr.append(ele)\n",
    "print(f'Array is :{arr}')\n",
    "target = int(input('Enter search Element :'))\n",
    "\n",
    "def found(num,arr,target):\n",
    "    for i in range(num):\n",
    "        if arr[i] == target:\n",
    "            return i\n",
    "    return 'Target not found'\n",
    "        \n",
    "ans = found(num,arr,target)\n",
    "print(f'Output:{ans}')"
   ]
  },
  {
   "cell_type": "code",
   "execution_count": 6,
   "id": "5dda5a5a-cc23-4a26-95c4-0e54e3e73b77",
   "metadata": {},
   "outputs": [
    {
     "name": "stdin",
     "output_type": "stream",
     "text": [
      "Enter the number of elements present in the array:  3\n",
      "Enter element at index-0:  1\n",
      "Enter element at index-1:  2\n",
      "Enter element at index-2:  3\n"
     ]
    },
    {
     "name": "stdout",
     "output_type": "stream",
     "text": [
      "Array is: [1, 2, 3]\n",
      "Updated array: [1, 2, 4]\n"
     ]
    }
   ],
   "source": [
    "\"\"\" **Q4.** You are given a large integer represented as an integer array digits, where each digits[i] is the ith digit of the integer. The digits are ordered from most significant to least significant in left-to-right order. The large integer does not contain any leading 0's.\n",
    "\n",
    "Increment the large integer by one and return the resulting array of digits.\n",
    "\n",
    "Example 1: Input: digits = [1,2,3] Output: [1,2,4]\n",
    "\n",
    "Explanation: The array represents the integer 123.\n",
    "\n",
    "Incrementing by one gives 123 + 1 = 124. Thus, the result should be [1,2,4]. \"\"\"\n",
    "\n",
    "num = int(input('Enter the number of elements present in the array: '))\n",
    "arr = []\n",
    "for i in range(num):\n",
    "    ele = int(input(f'Enter element at index-{i}: '))\n",
    "    arr.append(ele)\n",
    "print(f'Array is: {arr}')\n",
    "if(arr[num-1]!=9):\n",
    "    arr[num-1] = arr[num-1] + 1\n",
    "    print(f'Updated array: {arr}')\n",
    "else:\n",
    "    arr.append(1)\n",
    "    arr.append(0)\n",
    "    print(arr)"
   ]
  },
  {
   "cell_type": "code",
   "execution_count": 1,
   "id": "ae0e5c57-a87d-4185-bdf3-547217b25747",
   "metadata": {},
   "outputs": [
    {
     "name": "stdin",
     "output_type": "stream",
     "text": [
      "Enter the number of elements present in the array:  6\n",
      "Enter element at index-0:  1\n",
      "Enter element at index-1:  2\n",
      "Enter element at index-2:  3\n",
      "Enter element at index-3:  0\n",
      "Enter element at index-4:  0\n",
      "Enter element at index-5:  0\n"
     ]
    },
    {
     "name": "stdout",
     "output_type": "stream",
     "text": [
      "Array is: [1, 2, 3, 0, 0, 0]\n"
     ]
    },
    {
     "name": "stdin",
     "output_type": "stream",
     "text": [
      "Enter the number of elements present in the array:  3\n",
      "Enter element at index-0:  2\n",
      "Enter element at index-1:  5\n",
      "Enter element at index-2:  6\n"
     ]
    },
    {
     "name": "stdout",
     "output_type": "stream",
     "text": [
      "Array is: [2, 5, 6]\n",
      "removal Array_1 is [1, 2, 3]\n",
      "removal Array_2 is [2, 5, 6]\n",
      "[1, 2, 2, 3, 5, 6]\n"
     ]
    }
   ],
   "source": [
    " \"\"\" **Q5.** You are given two integer arrays nums1 and nums2, sorted in non-decreasing order, and two integers m and n, representing the number of elements in nums1 and nums2 respectively.\n",
    "\n",
    "Merge nums1 and nums2 into a single array sorted in non-decreasing order.\n",
    "\n",
    "The final sorted array should not be returned by the function, but instead be stored inside the array nums1. To accommodate this, nums1 has a length of m + n, where the first m elements denote the elements that should be merged, and the last n elements are set to 0 and should be ignored. nums2 has a length of n.\n",
    "\n",
    "Example 1: Input: nums1 = [1,2,3,0,0,0], m = 3, nums2 = [2,5,6], n = 3 Output: [1,2,2,3,5,6]\n",
    "\n",
    "Explanation: The arrays we are merging are [1,2,3] and [2,5,6]. The result of the merge is [1,2,2,3,5,6] with the underlined elements coming from nums1. \"\"\"\n",
    "\n",
    "num1 = int(input('Enter the number of elements present in the array: '))\n",
    "arr1 = []\n",
    "for i in range(num1):\n",
    "    ele = int(input(f'Enter element at index-{i}: '))\n",
    "    arr1.append(ele)\n",
    "print(f'Array is: {arr1}')\n",
    "\n",
    "num2 = int(input('Enter the number of elements present in the array: '))\n",
    "arr2 = []\n",
    "for i in range(num2):\n",
    "    ele = int(input(f'Enter element at index-{i}: '))\n",
    "    arr2.append(ele)\n",
    "print(f'Array is: {arr2}')\n",
    "arr_1=[]\n",
    "for i in range(num1):\n",
    "    if(arr1[i]!=0):\n",
    "        arr_1.append(arr1[i])\n",
    "    else:\n",
    "        pass\n",
    "arr_2=[]\n",
    "for i in range(num2):\n",
    "    if(arr2[i]!=0):\n",
    "        arr_2.append(arr2[i])\n",
    "    else:\n",
    "        pass\n",
    "print(f'removal Array_1 is {arr_1}')\n",
    "print(f'removal Array_2 is {arr_2}')\n",
    "merged_array = sorted(arr_1 + arr_2)\n",
    "print(merged_array)"
   ]
  },
  {
   "cell_type": "code",
   "execution_count": 2,
   "id": "f7709840-9b99-4611-b7e7-0cc0de2d4f11",
   "metadata": {},
   "outputs": [
    {
     "name": "stdin",
     "output_type": "stream",
     "text": [
      "Enter the number of elements present in the array:  4\n",
      "Enter element at index-0:  1\n",
      "Enter element at index-1:  2\n",
      "Enter element at index-2:  3\n",
      "Enter element at index-3:  1\n"
     ]
    },
    {
     "name": "stdout",
     "output_type": "stream",
     "text": [
      "Array is: [1, 2, 3, 1]\n"
     ]
    },
    {
     "data": {
      "text/plain": [
       "True"
      ]
     },
     "execution_count": 2,
     "metadata": {},
     "output_type": "execute_result"
    }
   ],
   "source": [
    "\"\"\" **Q6.** Given an integer array nums, return true if any value appears at least twice in the array, and return false if every element is distinct.\n",
    "\n",
    "Example 1: Input: nums = [1,2,3,1] \"\"\"\n",
    "\n",
    "num = int(input('Enter the number of elements present in the array: '))\n",
    "arr = []\n",
    "for i in range(num):\n",
    "    ele = int(input(f'Enter element at index-{i}: '))\n",
    "    arr.append(ele)\n",
    "print(f'Array is: {arr}')\n",
    "\n",
    "def checker(num,arr):\n",
    "    for i in range(num):\n",
    "        for j in range(i+1,num):\n",
    "            if(arr[i]==arr[j]):\n",
    "                return True\n",
    "        return False\n",
    "checker(num,arr)"
   ]
  },
  {
   "cell_type": "code",
   "execution_count": 1,
   "id": "1600c095-2461-47c3-abc2-3decb620d37d",
   "metadata": {},
   "outputs": [
    {
     "name": "stdin",
     "output_type": "stream",
     "text": [
      "Enter the number of elements present in the array:  5\n",
      "Enter element at index-0:  0\n",
      "Enter element at index-1:  1\n",
      "Enter element at index-2:  0\n",
      "Enter element at index-3:  3\n",
      "Enter element at index-4:  12\n"
     ]
    },
    {
     "name": "stdout",
     "output_type": "stream",
     "text": [
      "Array is: [0, 1, 0, 3, 12]\n",
      "Output: [1, 3, 12, 0, 0]\n"
     ]
    }
   ],
   "source": [
    " \"\"\"  **Q7.** Given an integer array nums, move all 0's to the end of it while maintaining the relative order of the nonzero elements.\n",
    "\n",
    "Note that you must do this in-place without making a copy of the array.\n",
    "\n",
    "Example 1: Input: nums = [0,1,0,3,12] Output: [1,3,12,0,0] \"\"\"\n",
    "\n",
    "nums = int(input('Enter the number of elements present in the array: '))\n",
    "arr = []\n",
    "for i in range(nums):\n",
    "    ele = int(input(f'Enter element at index-{i}: '))\n",
    "    arr.append(ele)\n",
    "print(f'Array is: {arr}')\n",
    "\n",
    "def zerolast(nums):\n",
    "    arr.sort(key=lambda x: x == 0)\n",
    "    return arr\n",
    "\n",
    "result = zerolast(nums)\n",
    "print(\"Output:\", result)"
   ]
  },
  {
   "cell_type": "code",
   "execution_count": 3,
   "id": "a78bd5e2-c5d4-48d2-85af-c51b89830ac9",
   "metadata": {},
   "outputs": [
    {
     "name": "stdin",
     "output_type": "stream",
     "text": [
      "Enter the number of elements present in the array:  4\n",
      "Enter element at index-0:  1\n",
      "Enter element at index-1:  2\n",
      "Enter element at index-2:  2\n",
      "Enter element at index-3:  4\n"
     ]
    },
    {
     "name": "stdout",
     "output_type": "stream",
     "text": [
      "Array is: [1, 2, 2, 4]\n"
     ]
    },
    {
     "data": {
      "text/plain": [
       "[2, 3]"
      ]
     },
     "execution_count": 3,
     "metadata": {},
     "output_type": "execute_result"
    }
   ],
   "source": [
    "\"\"\" **Q8.** You have a set of integers s, which originally contains all the numbers from 1 to n. Unfortunately, due to some error, one of the numbers in s got duplicated to another number in the set, which results in repetition of one number and loss of another number.\n",
    "\n",
    "You are given an integer array nums representing the data status of this set after the error.\n",
    "\n",
    "Find the number that occurs twice and the number that is missing and return them in the form of an array.\n",
    "\n",
    "Example 1: Input: nums = [1,2,2,4] Output: [2,3] \"\"\"\n",
    "\n",
    "num = int(input('Enter the number of elements present in the array: '))\n",
    "arr = []\n",
    "for i in range(num):\n",
    "    ele = int(input(f'Enter element at index-{i}: '))\n",
    "    arr.append(ele)\n",
    "print(f'Array is: {arr}')\n",
    "\n",
    "def duplicate_val(num,arr):\n",
    "    for i in range(num):\n",
    "        for j in range(i+1,num):\n",
    "            if(arr[i]==arr[j]):\n",
    "                return [i+1,j+1]\n",
    "    return 'NULL'\n",
    "duplicate_val(num,arr)"
   ]
  }
 ],
 "metadata": {
  "kernelspec": {
   "display_name": "Python 3 (ipykernel)",
   "language": "python",
   "name": "python3"
  },
  "language_info": {
   "codemirror_mode": {
    "name": "ipython",
    "version": 3
   },
   "file_extension": ".py",
   "mimetype": "text/x-python",
   "name": "python",
   "nbconvert_exporter": "python",
   "pygments_lexer": "ipython3",
   "version": "3.10.8"
  }
 },
 "nbformat": 4,
 "nbformat_minor": 5
}
