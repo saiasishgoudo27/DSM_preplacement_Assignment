{
 "cells": [
  {
   "cell_type": "markdown",
   "id": "a0b62ad7-ec0e-44b8-9354-c491fbf3a32c",
   "metadata": {},
   "source": [
    "Assignment Questions 2\n",
    "\n",
    "💡 **Question 1**\n",
    "Given an integer array nums of 2n integers, group these integers into n pairs (a1, b1), (a2, b2),..., (an, bn) such that the sum of min(ai, bi) for all i is maximized. Return the maximized sum.\n",
    "\n",
    "**Example 1:**\n",
    "Input: nums = [1,4,3,2]\n",
    "Output: 4\n",
    "\n",
    "**Explanation:** All possible pairings (ignoring the ordering of elements) are:\n",
    "\n",
    "1. (1, 4), (2, 3) -> min(1, 4) + min(2, 3) = 1 + 2 = 3\n",
    "2. (1, 3), (2, 4) -> min(1, 3) + min(2, 4) = 1 + 2 = 3\n",
    "3. (1, 2), (3, 4) -> min(1, 2) + min(3, 4) = 1 + 3 = 4\n",
    "So the maximum possible sum is 4\n"
   ]
  },
  {
   "cell_type": "code",
   "execution_count": 4,
   "id": "429b8be3-6e60-4594-9b74-f4d6df57411d",
   "metadata": {},
   "outputs": [
    {
     "name": "stdin",
     "output_type": "stream",
     "text": [
      "enter the number 2\n",
      "enter the values 3\n",
      "enter the values 2\n",
      "enter the values 4\n",
      "enter the values 1\n"
     ]
    },
    {
     "name": "stdout",
     "output_type": "stream",
     "text": [
      "4\n"
     ]
    }
   ],
   "source": [
    "n=2*int(input(\"enter the number\"))\n",
    "nums=[]\n",
    "for i in range(n):\n",
    "    nums.append(int(input(\"enter the values\")))\n",
    "    nums.sort()\n",
    "max_sum=0\n",
    "for i in range(0,n,2):\n",
    "    max_sum+=nums[i]\n",
    "print(max_sum)"
   ]
  },
  {
   "cell_type": "markdown",
   "id": "df02ef80-0430-4d79-adc8-33f0ae2757c3",
   "metadata": {},
   "source": [
    "Question 2\n",
    "Alice has n candies, where the ith candy is of type candyType[i]. Alice noticed that she started to gain weight, so she visited a doctor. \n",
    "\n",
    "The doctor advised Alice to only eat n / 2 of the candies she has (n is always even). Alice likes her candies very much, and she wants to eat the maximum number of different types of candies while still following the doctor's advice. \n",
    "\n",
    "Given the integer array candyType of length n, return the maximum number of different types of candies she can eat if she only eats n / 2 of them.\n",
    "\n",
    "Example 1:\n",
    "Input: candyType = [1,1,2,2,3,3]\n",
    "Output: 3\n",
    "\n",
    "Explanation: Alice can only eat 6 / 2 = 3 candies. Since there are only 3 types, she can eat one of each type."
   ]
  },
  {
   "cell_type": "code",
   "execution_count": 6,
   "id": "77ecaff1-a5a4-4b32-a488-46ac520839f7",
   "metadata": {},
   "outputs": [
    {
     "name": "stdin",
     "output_type": "stream",
     "text": [
      "Enter no. of candies: 8\n",
      "Enter index-0 candies ele: 1\n",
      "Enter index-1 candies ele: 1\n",
      "Enter index-2 candies ele: 1\n",
      "Enter index-3 candies ele: 1\n",
      "Enter index-4 candies ele: 1\n",
      "Enter index-5 candies ele: 2\n",
      "Enter index-6 candies ele: 3\n",
      "Enter index-7 candies ele: 3\n"
     ]
    },
    {
     "name": "stdout",
     "output_type": "stream",
     "text": [
      "candy_type is :[1, 1, 1, 1, 1, 2, 3, 3]\n",
      "3\n",
      "Since there are only 3 types, she can eat one of each type.\n"
     ]
    }
   ],
   "source": [
    "num = int(input('Enter no. of candies:'))\n",
    "candy = []\n",
    "for i in range(num):\n",
    "    ele = int(input(f'Enter index-{i} candies ele:'))\n",
    "    candy.append(ele)\n",
    "print(f'candy_type is :{candy}')\n",
    "\n",
    "def max_eat(candy):\n",
    "    unique_candy = len(set(candy))\n",
    "    \n",
    "    max_eaatten = len(candy)//2\n",
    "    return min(unique_candy,max_eaatten)\n",
    "print(f'Since there are only {max_eat(candy)} types, she can eat one of each type.')"
   ]
  },
  {
   "cell_type": "markdown",
   "id": "d2e54748-89b4-4b63-bcc1-d43670c07c9f",
   "metadata": {},
   "source": [
    "Question 3\n",
    "We define a harmonious array as an array where the difference between its maximum value\n",
    "and its minimum value is exactly 1.\n",
    "\n",
    "Given an integer array nums, return the length of its longest harmonious subsequence\n",
    "among all its possible subsequences.\n",
    "\n",
    "A subsequence of an array is a sequence that can be derived from the array by deleting some or no elements without changing the order of the remaining elements.\n",
    "\n",
    "Example 1:\n",
    "Input: nums = [1,3,2,2,5,2,3,7]\n",
    "Output: 5\n",
    "\n",
    "Explanation: The longest harmonious subsequence is [3,2,2,2,3]."
   ]
  },
  {
   "cell_type": "code",
   "execution_count": 11,
   "id": "9d3feb09-20c2-4d7d-bd69-f5ee48044f7d",
   "metadata": {},
   "outputs": [
    {
     "name": "stdin",
     "output_type": "stream",
     "text": [
      "Enter no. of Elements present in array: 8\n",
      "Enter index-0 element: 1\n",
      "Enter index-1 element: 3\n",
      "Enter index-2 element: 2\n",
      "Enter index-3 element: 2\n",
      "Enter index-4 element: 5\n",
      "Enter index-5 element: 2\n",
      "Enter index-6 element: 3\n",
      "Enter index-7 element: 7\n"
     ]
    },
    {
     "name": "stdout",
     "output_type": "stream",
     "text": [
      "Array is :[1, 3, 2, 2, 5, 2, 3, 7]\n",
      "Output: 5\n"
     ]
    }
   ],
   "source": [
    "num = int(input('Enter no. of Elements present in array:'))\n",
    "arr = []\n",
    "for i in range(num):\n",
    "    ele = int(input(f'Enter index-{i} element:'))\n",
    "    arr.append(ele)\n",
    "print(f'Array is :{arr}')\n",
    "def findLHS(nums):\n",
    "    num_counts = {}\n",
    "    for num in nums:\n",
    "        num_counts[num] = num_counts.get(num, 0) + 1\n",
    "    \n",
    "    max_length = 0\n",
    "    for num in num_counts:\n",
    "        if num + 1 in num_counts:\n",
    "            length = num_counts[num] + num_counts[num + 1]\n",
    "            max_length = max(max_length, length)\n",
    "    \n",
    "    return max_length\n",
    "max_length = findLHS(arr)\n",
    "print('Output:',max_length) "
   ]
  },
  {
   "cell_type": "markdown",
   "id": "df5842c3-dc72-4e1b-8a19-a04d55218e81",
   "metadata": {},
   "source": [
    "Question 4\n",
    "You have a long flowerbed in which some of the plots are planted, and some are not.\n",
    "However, flowers cannot be planted in adjacent plots.\n",
    "Given an integer array flowerbed containing 0's and 1's, where 0 means empty and 1 means not empty, and an integer n, return true if n new flowers can be planted in the flowerbed without violating the no-adjacent-flowers rule and false otherwise."
   ]
  },
  {
   "cell_type": "code",
   "execution_count": 18,
   "id": "a4ee56a7-3885-44ac-80cc-ff63d0fba01a",
   "metadata": {},
   "outputs": [
    {
     "name": "stdout",
     "output_type": "stream",
     "text": [
      "Flowerbed: [1, 0, 0, 0, 1]\n",
      "True\n"
     ]
    }
   ],
   "source": [
    "flowerbed = [1, 0, 0, 0, 1]\n",
    "n = 1\n",
    "print('Flowerbed:',flowerbed)\n",
    "def canPlaceFlowers(flowerbed, n):\n",
    "    count = 0\n",
    "    for i in range(len(flowerbed)):\n",
    "        if flowerbed[i] == 0 and (i == 0 or flowerbed[i-1] == 0) and (i == len(flowerbed)-1 or flowerbed[i+1] == 0):\n",
    "            flowerbed[i] = 1 \n",
    "            count += 1  \n",
    "    return count >= n\n",
    "\n",
    "can_plant = canPlaceFlowers(flowerbed, n)\n",
    "print(can_plant)"
   ]
  },
  {
   "cell_type": "markdown",
   "id": "a576ec97-02d7-4cfe-a2da-7adb46fe2278",
   "metadata": {},
   "source": [
    "Question 5\n",
    "Given an integer array nums, find three numbers whose product is maximum and return the maximum product.\n",
    "\n",
    "Example 1:\n",
    "Input: nums = [1,2,3]\n",
    "Output: 6"
   ]
  },
  {
   "cell_type": "code",
   "execution_count": 31,
   "id": "5d1a8270-0cdd-4099-8139-52ba4b029b60",
   "metadata": {},
   "outputs": [
    {
     "name": "stdin",
     "output_type": "stream",
     "text": [
      "Enter no. of Elements present in array: 4\n",
      "Enter index-0 element: -1\n",
      "Enter index-1 element: -2\n",
      "Enter index-2 element: 5\n",
      "Enter index-3 element: 6\n"
     ]
    },
    {
     "name": "stdout",
     "output_type": "stream",
     "text": [
      "12\n"
     ]
    }
   ],
   "source": [
    "def maximumProduct(nums):\n",
    "    nums.sort()\n",
    "    return max(nums[-1] * nums[-2] * nums[-3], nums[0] * nums[1] * nums[-1])\n",
    "\n",
    "num = int(input('Enter no. of Elements present in array:'))\n",
    "arr = []\n",
    "for i in range(num):\n",
    "    ele = int(input(f'Enter index-{i} element:'))\n",
    "    arr.append(ele)\n",
    "\n",
    "max_product = maximumProduct(arr)\n",
    "print(max_product)"
   ]
  },
  {
   "cell_type": "markdown",
   "id": "565c253b-ddbf-490f-8040-6df59321bad2",
   "metadata": {},
   "source": [
    "Question 6\n",
    "Given an array of integers nums which is sorted in ascending order, and an integer target,\n",
    "write a function to search target in nums. If target exists, then return its index. Otherwise,\n",
    "return -1.\n",
    "\n",
    "You must write an algorithm with O(log n) runtime complexity.\n",
    "\n",
    "Input: nums = [-1,0,3,5,9,12], target = 9\n",
    "Output: 4\n",
    "\n",
    "Explanation: 9 exists in nums and its index is 4"
   ]
  },
  {
   "cell_type": "code",
   "execution_count": 35,
   "id": "cad2c3d9-5e28-47c3-9437-bbfc22e67711",
   "metadata": {},
   "outputs": [
    {
     "name": "stdin",
     "output_type": "stream",
     "text": [
      "enter the no of elements 4\n",
      "enter the value -1\n",
      "enter the value 2\n",
      "enter the value 3\n",
      "enter the value 5\n",
      "enter the target value 3\n"
     ]
    },
    {
     "name": "stdout",
     "output_type": "stream",
     "text": [
      "2\n"
     ]
    }
   ],
   "source": [
    "n=int(input(\"enter the no of elements\"))\n",
    "arr=[]\n",
    "for i in range(n):\n",
    "    arr.append(int(input(\"enter the value\")))\n",
    "arr.sort()\n",
    "target=int(input(\"enter the target value\"))\n",
    "def search(arr,n):\n",
    "    for i in range(n):\n",
    "        if(arr[i]==target):\n",
    "            return i\n",
    "    return -1\n",
    "ans=search(arr,n)\n",
    "print(ans)"
   ]
  },
  {
   "cell_type": "markdown",
   "id": "2e9bd82e-b4a0-44b5-a8aa-2cad6a4ce318",
   "metadata": {},
   "source": [
    "Question 7\n",
    "An array is monotonic if it is either monotone increasing or monotone decreasing.\n",
    "\n",
    "An array nums is monotone increasing if for all i <= j, nums[i] <= nums[j]. An array nums is\n",
    "monotone decreasing if for all i <= j, nums[i] >= nums[j].\n",
    "\n",
    "Given an integer array nums, return true if the given array is monotonic, or false otherwise.\n",
    "\n",
    "Example 1:\n",
    "Input: nums = [1,2,2,3]\n",
    "Output: true"
   ]
  },
  {
   "cell_type": "code",
   "execution_count": 1,
   "id": "d0015a50-765f-403e-84ab-f51fd392031a",
   "metadata": {},
   "outputs": [
    {
     "name": "stdin",
     "output_type": "stream",
     "text": [
      "Enter no. of Elements present in array: 4\n",
      "Enter index-0 element: 1\n",
      "Enter index-1 element: 3\n",
      "Enter index-2 element: 5\n",
      "Enter index-3 element: 2\n"
     ]
    },
    {
     "name": "stdout",
     "output_type": "stream",
     "text": [
      "Array is :[1, 3, 5, 2]\n",
      "Output is: False\n"
     ]
    }
   ],
   "source": [
    "num = int(input('Enter no. of Elements present in array:'))\n",
    "arr = []\n",
    "for i in range(num):\n",
    "    ele = int(input(f'Enter index-{i} element:'))\n",
    "    arr.append(ele)\n",
    "print(f'Array is :{arr}')\n",
    "\n",
    "def monotone(nums):\n",
    "    isIncreasing = True\n",
    "    isDecreasing = True\n",
    "    for i in range(1, len(nums)):\n",
    "        if nums[i] > nums[i-1]:\n",
    "            isDecreasing = False\n",
    "        elif nums[i] < nums[i-1]:\n",
    "            isIncreasing = False\n",
    "    return isIncreasing or isDecreasing\n",
    "ans=monotone(arr)\n",
    "print('Output is:',ans)"
   ]
  },
  {
   "cell_type": "markdown",
   "id": "9c943066-2727-49d7-b104-8662a38d8ee7",
   "metadata": {},
   "source": [
    "You are given an integer array nums and an integer k.\n",
    "\n",
    "In one operation, you can choose any index i where 0 <= i < nums.length and change nums[i] to nums[i] + x where x is an integer from the range [-k, k]. You can apply this operation at most once for each index i.\n",
    "\n",
    "The score of nums is the difference between the maximum and minimum elements in nums.\n",
    "\n",
    "Return the minimum score of nums after applying the mentioned operation at most once for each index in it.\n",
    "\n",
    "Example 1:\n",
    "Input: nums = [1], k = 0\n",
    "Output: 0\n",
    "\n",
    "Explanation: The score is max(nums) - min(nums) = 1 - 1 = 0."
   ]
  },
  {
   "cell_type": "code",
   "execution_count": 10,
   "id": "1ba6f4d7-c296-453d-8ad2-7c1bd5d7abe5",
   "metadata": {},
   "outputs": [
    {
     "name": "stdout",
     "output_type": "stream",
     "text": [
      "-2\n"
     ]
    }
   ],
   "source": [
    "def minDifference(nums, k):\n",
    "    nums.sort()\n",
    "    min_score = float('inf')\n",
    "    max_score = float('-inf')\n",
    "    \n",
    "    for num in nums:\n",
    "        potential_min = nums[0] + k - (num - k)\n",
    "        potential_max = nums[-1] - k - (num + k)\n",
    "        min_score = min(min_score, potential_min)\n",
    "        max_score = max(max_score, potential_max)\n",
    "    \n",
    "    return min(max_score - min_score, nums[-1] - nums[0])\n",
    "nums = [1, 3, 6]\n",
    "k = 3\n",
    "min_score = minDifference(nums, k)\n",
    "print(min_score)"
   ]
  },
  {
   "cell_type": "code",
   "execution_count": null,
   "id": "3544af2f-e9e3-42f8-aa93-fa76b1230fac",
   "metadata": {},
   "outputs": [],
   "source": []
  }
 ],
 "metadata": {
  "kernelspec": {
   "display_name": "Python 3 (ipykernel)",
   "language": "python",
   "name": "python3"
  },
  "language_info": {
   "codemirror_mode": {
    "name": "ipython",
    "version": 3
   },
   "file_extension": ".py",
   "mimetype": "text/x-python",
   "name": "python",
   "nbconvert_exporter": "python",
   "pygments_lexer": "ipython3",
   "version": "3.10.8"
  }
 },
 "nbformat": 4,
 "nbformat_minor": 5
}
